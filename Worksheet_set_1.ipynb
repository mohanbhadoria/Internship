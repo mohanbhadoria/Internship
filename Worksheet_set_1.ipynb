{
 "cells": [
  {
   "cell_type": "markdown",
   "id": "bf7c751f",
   "metadata": {},
   "source": [
    "# PYTHON – WORKSHEET 1"
   ]
  },
  {
   "cell_type": "code",
   "execution_count": null,
   "id": "ba750375",
   "metadata": {},
   "outputs": [],
   "source": [
    "1. Which of the following operators is used to calculate remainder in a division?"
   ]
  },
  {
   "cell_type": "code",
   "execution_count": null,
   "id": "309bc16d",
   "metadata": {},
   "outputs": [],
   "source": [
    "C) %"
   ]
  },
  {
   "cell_type": "code",
   "execution_count": null,
   "id": "7e8dc4ce",
   "metadata": {},
   "outputs": [],
   "source": [
    "2. In python 2//3 is equal to?"
   ]
  },
  {
   "cell_type": "code",
   "execution_count": 1,
   "id": "754f2b15",
   "metadata": {},
   "outputs": [
    {
     "data": {
      "text/plain": [
       "0"
      ]
     },
     "execution_count": 1,
     "metadata": {},
     "output_type": "execute_result"
    }
   ],
   "source": [
    "2//3"
   ]
  },
  {
   "cell_type": "code",
   "execution_count": null,
   "id": "f8dcd07e",
   "metadata": {},
   "outputs": [],
   "source": [
    "3. In python, 6<<2 is equal to?"
   ]
  },
  {
   "cell_type": "code",
   "execution_count": 2,
   "id": "8e991a9e",
   "metadata": {},
   "outputs": [
    {
     "data": {
      "text/plain": [
       "24"
      ]
     },
     "execution_count": 2,
     "metadata": {},
     "output_type": "execute_result"
    }
   ],
   "source": [
    "6<<2"
   ]
  },
  {
   "cell_type": "code",
   "execution_count": null,
   "id": "4147bdeb",
   "metadata": {},
   "outputs": [],
   "source": [
    "4. In python, 6&2 will give which of the following as output?"
   ]
  },
  {
   "cell_type": "code",
   "execution_count": 3,
   "id": "ae0b9ddc",
   "metadata": {},
   "outputs": [
    {
     "data": {
      "text/plain": [
       "2"
      ]
     },
     "execution_count": 3,
     "metadata": {},
     "output_type": "execute_result"
    }
   ],
   "source": [
    "6&2"
   ]
  },
  {
   "cell_type": "code",
   "execution_count": null,
   "id": "61688171",
   "metadata": {},
   "outputs": [],
   "source": [
    "5. In python, 6|2 will give which of the following as output?"
   ]
  },
  {
   "cell_type": "code",
   "execution_count": 4,
   "id": "0f7b308e",
   "metadata": {},
   "outputs": [
    {
     "data": {
      "text/plain": [
       "6"
      ]
     },
     "execution_count": 4,
     "metadata": {},
     "output_type": "execute_result"
    }
   ],
   "source": [
    "6|2"
   ]
  },
  {
   "cell_type": "code",
   "execution_count": null,
   "id": "74c20584",
   "metadata": {},
   "outputs": [],
   "source": [
    "6. What does the finally keyword denotes in python?"
   ]
  },
  {
   "cell_type": "code",
   "execution_count": null,
   "id": "6a546a87",
   "metadata": {},
   "outputs": [],
   "source": [
    "C)the finally block will be executed no matter if the try block raises an error or not."
   ]
  },
  {
   "cell_type": "code",
   "execution_count": null,
   "id": "64f4efe6",
   "metadata": {},
   "outputs": [],
   "source": [
    "7. What does raise keyword is used for in python?"
   ]
  },
  {
   "cell_type": "code",
   "execution_count": null,
   "id": "0c077339",
   "metadata": {},
   "outputs": [],
   "source": [
    "A)It is used to raise an exception."
   ]
  },
  {
   "cell_type": "code",
   "execution_count": null,
   "id": "3d376736",
   "metadata": {},
   "outputs": [],
   "source": [
    "8. Which of the following is a common use case of yield keyword in python?"
   ]
  },
  {
   "cell_type": "code",
   "execution_count": null,
   "id": "0d1c3543",
   "metadata": {},
   "outputs": [],
   "source": [
    "C) in defining a generator"
   ]
  },
  {
   "cell_type": "code",
   "execution_count": null,
   "id": "8fd20a13",
   "metadata": {},
   "outputs": [],
   "source": [
    "9. Which of the following are the valid variable names?"
   ]
  },
  {
   "cell_type": "code",
   "execution_count": null,
   "id": "436b4f95",
   "metadata": {},
   "outputs": [],
   "source": [
    "A) _abc and C) abc2"
   ]
  },
  {
   "cell_type": "code",
   "execution_count": null,
   "id": "f88ee43a",
   "metadata": {},
   "outputs": [],
   "source": [
    "10. Which of the following are the keywords in python?"
   ]
  },
  {
   "cell_type": "code",
   "execution_count": null,
   "id": "f72945af",
   "metadata": {},
   "outputs": [],
   "source": [
    "A) yield and B) raise"
   ]
  },
  {
   "cell_type": "code",
   "execution_count": null,
   "id": "b462d8e8",
   "metadata": {},
   "outputs": [],
   "source": [
    "11. Write a python program to find the factorial of a number."
   ]
  },
  {
   "cell_type": "code",
   "execution_count": null,
   "id": "ffe51956",
   "metadata": {},
   "outputs": [],
   "source": []
  },
  {
   "cell_type": "code",
   "execution_count": null,
   "id": "849662f0",
   "metadata": {},
   "outputs": [],
   "source": []
  }
 ],
 "metadata": {
  "kernelspec": {
   "display_name": "Python 3 (ipykernel)",
   "language": "python",
   "name": "python3"
  },
  "language_info": {
   "codemirror_mode": {
    "name": "ipython",
    "version": 3
   },
   "file_extension": ".py",
   "mimetype": "text/x-python",
   "name": "python",
   "nbconvert_exporter": "python",
   "pygments_lexer": "ipython3",
   "version": "3.9.7"
  }
 },
 "nbformat": 4,
 "nbformat_minor": 5
}
